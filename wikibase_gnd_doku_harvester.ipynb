{
 "cells": [
  {
   "cell_type": "code",
   "execution_count": 3,
   "id": "b1074a22",
   "metadata": {},
   "outputs": [
    {
     "name": "stdout",
     "output_type": "stream",
     "text": [
      "Requirement already satisfied: wikibase-api in ./jupyterenvironment/lib/python3.8/site-packages (0.1.2)\n",
      "Requirement already satisfied: requests<3.0,>=2.20 in ./jupyterenvironment/lib/python3.8/site-packages (from wikibase-api) (2.25.1)\n",
      "Requirement already satisfied: requests-oauthlib<2.0,>=1.0 in ./jupyterenvironment/lib/python3.8/site-packages (from wikibase-api) (1.3.0)\n",
      "Requirement already satisfied: idna<3,>=2.5 in ./jupyterenvironment/lib/python3.8/site-packages (from requests<3.0,>=2.20->wikibase-api) (2.10)\n",
      "Requirement already satisfied: chardet<5,>=3.0.2 in ./jupyterenvironment/lib/python3.8/site-packages (from requests<3.0,>=2.20->wikibase-api) (4.0.0)\n",
      "Requirement already satisfied: urllib3<1.27,>=1.21.1 in ./jupyterenvironment/lib/python3.8/site-packages (from requests<3.0,>=2.20->wikibase-api) (1.26.6)\n",
      "Requirement already satisfied: certifi>=2017.4.17 in ./jupyterenvironment/lib/python3.8/site-packages (from requests<3.0,>=2.20->wikibase-api) (2021.5.30)\n",
      "Requirement already satisfied: oauthlib>=3.0.0 in ./jupyterenvironment/lib/python3.8/site-packages (from requests-oauthlib<2.0,>=1.0->wikibase-api) (3.1.1)\n",
      "Requirement already satisfied: sparqlwrapper in ./jupyterenvironment/lib/python3.8/site-packages (1.8.5)\n",
      "Requirement already satisfied: rdflib>=4.0 in ./jupyterenvironment/lib/python3.8/site-packages (from sparqlwrapper) (5.0.0)\n",
      "Requirement already satisfied: six in ./jupyterenvironment/lib/python3.8/site-packages (from rdflib>=4.0->sparqlwrapper) (1.16.0)\n",
      "Requirement already satisfied: pyparsing in ./jupyterenvironment/lib/python3.8/site-packages (from rdflib>=4.0->sparqlwrapper) (2.4.7)\n",
      "Requirement already satisfied: isodate in ./jupyterenvironment/lib/python3.8/site-packages (from rdflib>=4.0->sparqlwrapper) (0.6.0)\n"
     ]
    }
   ],
   "source": [
    "# Install a pip package in the current Jupyter kernel\n",
    "import sys\n",
    "!{sys.executable} -m pip install wikibase-api\n",
    "!{sys.executable} -m pip install sparqlwrapper\n",
    "import json\n",
    "import csv\n",
    "from wikibase_api import Wikibase\n",
    "from SPARQLWrapper import SPARQLWrapper, JSON\n",
    "\n",
    "wb = Wikibase(\n",
    "    api_url='https://doku.wikibase.wiki/w/api.php', \n",
    "    oauth_credentials=None, \n",
    "    login_credentials={'bot_username':'Bauert@dokubot', 'bot_password':'valr43kp7ajnalke81lmtoa0ph34unl4'}, \n",
    "    is_bot=True, \n",
    "    summary='Modified using wikibase-api for Python', \n",
    "    config_path=None)\n",
    "\n",
    "endpoint_url = \"https://doku.wikibase.wiki/query/proxy/wdqs/bigdata/namespace/wdq/sparql\"\n",
    "\n",
    "def get_results_from_sparql_endpoint(endpoint_url, query):\n",
    "    user_agent = \"WDQS-example Python/%s.%s\" % (sys.version_info[0], sys.version_info[1])\n",
    "    # TODO adjust user agent; see https://w.wiki/CX6\n",
    "    sparql = SPARQLWrapper(endpoint_url, agent=user_agent)\n",
    "    sparql.setQuery(query)\n",
    "    sparql.setReturnFormat(JSON)\n",
    "    return sparql.query().convert()\n"
   ]
  },
  {
   "cell_type": "code",
   "execution_count": 2,
   "id": "46d45410",
   "metadata": {},
   "outputs": [
    {
     "name": "stdout",
     "output_type": "stream",
     "text": [
      "46\n",
      "46\n",
      "['https://doku.wikibase.wiki/entity/P103', 'https://doku.wikibase.wiki/entity/P104', 'https://doku.wikibase.wiki/entity/P105', 'https://doku.wikibase.wiki/entity/P106', 'https://doku.wikibase.wiki/entity/P107', 'https://doku.wikibase.wiki/entity/P108', 'https://doku.wikibase.wiki/entity/P133', 'https://doku.wikibase.wiki/entity/P160', 'https://doku.wikibase.wiki/entity/P171', 'https://doku.wikibase.wiki/entity/P53', 'https://doku.wikibase.wiki/entity/P55', 'https://doku.wikibase.wiki/entity/P56', 'https://doku.wikibase.wiki/entity/P58', 'https://doku.wikibase.wiki/entity/P59', 'https://doku.wikibase.wiki/entity/P63', 'https://doku.wikibase.wiki/entity/P65', 'https://doku.wikibase.wiki/entity/P66', 'https://doku.wikibase.wiki/entity/P68', 'https://doku.wikibase.wiki/entity/P69', 'https://doku.wikibase.wiki/entity/P70', 'https://doku.wikibase.wiki/entity/P71', 'https://doku.wikibase.wiki/entity/P72', 'https://doku.wikibase.wiki/entity/P73', 'https://doku.wikibase.wiki/entity/P80', 'https://doku.wikibase.wiki/entity/P81', 'https://doku.wikibase.wiki/entity/P83', 'https://doku.wikibase.wiki/entity/P84', 'https://doku.wikibase.wiki/entity/P85', 'https://doku.wikibase.wiki/entity/P86', 'https://doku.wikibase.wiki/entity/P87', 'https://doku.wikibase.wiki/entity/P90', 'https://doku.wikibase.wiki/entity/P91', 'https://doku.wikibase.wiki/entity/P93', 'https://doku.wikibase.wiki/entity/P94', 'https://doku.wikibase.wiki/entity/P95', 'https://doku.wikibase.wiki/entity/P96', 'https://doku.wikibase.wiki/entity/P97', 'https://doku.wikibase.wiki/entity/P98', 'https://doku.wikibase.wiki/entity/P99', 'https://doku.wikibase.wiki/entity/P89', 'https://doku.wikibase.wiki/entity/P161', 'https://doku.wikibase.wiki/entity/P162', 'https://doku.wikibase.wiki/entity/P163', 'https://doku.wikibase.wiki/entity/P164', 'https://doku.wikibase.wiki/entity/P165', 'https://doku.wikibase.wiki/entity/P101']\n",
      "['Sachbegriff – Bevorzugte  Benennung in einem anderen Datenbestand', 'Körperschaft  – Bevorzugter Name in einem anderen Datenbestand oder originalschriftliche Form', 'Konferenz – Bevorzugter Name in einem anderen Datenbestand oder originalschriftliche Form', 'Geografikum – Bevorzugter Name in einem  anderen Datenbestand  oder originalschriftliche  Form', 'Person – Bevorzugter Name in einem anderen Datenbestand oder originalschriftliche Form', 'Teilbestandskennzeichen', 'Geografische Koordinaten', 'Oberbegriff allgemein', 'Sonstige Standardnummer', 'Satzart', 'Beziehung: Person', 'Beziehung: Körperschaft', 'Bevorzugter Name', 'Abweichender Name', 'Entitätencodierung', 'DDC-Notation', 'GND-URI', 'Inhaltstyp', 'Geschlecht', 'Beziehung: Konferenz', 'Beziehung: Werk', 'Beziehung: Sachbegriff', 'Beziehung: Geografikum', 'Redaktionelle Bemerkungen', 'Quellenangaben', 'negativ eingesehene Quellen', 'Definitionen', 'Biografische, historische und andere Angaben', 'Benutzungshinweise', 'Konferenz – Bevorzugter Name', 'Körperschaft – Bevorzugter Name', 'Werk – Bevorzugter Titel', 'Sachbegriff - Bevorzugte Bennenung', 'Geografikum – Bevorzugter Name', 'Konferenz  – Abweichender Name', 'Körperschaft – Abweichender Name', 'Werk  – Abweichender Titel', 'Geografikum  – Abweichender Name', 'Sachbegriff  – Abweichende Benennung', 'zeitliche Einordnung', 'Verwandter Begriff', 'Sitz allgemein', 'Beruf', 'Charakteristischer Beruf', 'Lebensdaten', 'GND-Nummer']\n"
     ]
    }
   ],
   "source": [
    "query_all_possible_datafields = \"\"\"PREFIX prop: <https://doku.wikibase.wiki/prop/direct/>\n",
    "PREFIX item: <https://doku.wikibase.wiki/entity/>\n",
    "\n",
    "SELECT DISTINCT ?dataField ?dataFieldLabel # ?definition ?coding ?subfields ?subfieldsLabel ?dataFieldType ?validation ?dataFieldAltLabel\n",
    "WHERE { \n",
    "#  ?dataField wikibase:propertyType ?dataFieldType .\n",
    "  ?dataField prop:P2 item:Q2 .\n",
    "#    ?dataField rdfs:label ?dataFieldLabel .\n",
    "#  FILTER(STRSTARTS(?dataFieldLabel, 'Satz')) .\n",
    "#  OPTIONAL{ ?dataField prop:P1 ?definition }\n",
    "#  OPTIONAL{ ?dataField prop:P9 ?validation }\n",
    "#  OPTIONAL{ ?dataField prop:P4 ?coding }\n",
    "#  OPTIONAL{ ?dataField prop:P15 ?subfields }\n",
    "  SERVICE wikibase:label { bd:serviceParam wikibase:language \"[AUTO_LANGUAGE],de\" }\n",
    "}\n",
    "ORDER BY ASC(xsd:integer(STRAFTER(STR(?statementValue), 'Q')))\n",
    "\n",
    "\"\"\"\n",
    "results = get_results_from_sparql_endpoint(endpoint_url, query_all_possible_datafields)\n",
    "header = results[\"head\"][\"vars\"]\n",
    "data = results[\"results\"][\"bindings\"]\n",
    "data_field_paths = []\n",
    "data_field_labels = []\n",
    "for item in data:\n",
    "    # print('item: ', item[\"dataField\"][\"value\"])\n",
    "    data_field_paths.append(item[\"dataField\"][\"value\"])\n",
    "    data_field_labels.append(item[\"dataFieldLabel\"][\"value\"])\n",
    "print(len(data_field_paths))\n",
    "print(len(data_field_labels))\n",
    "print(data_field_paths)\n",
    "print(data_field_labels)\n",
    "\n",
    "    \n",
    "#print(type(results), results)\n",
    "#data_fields = data[\"dataField\"]\n",
    "#print(type(data), data)\n",
    "#print(type(data_fields), data_fields)\n",
    "#print(type(header), header)"
   ]
  },
  {
   "cell_type": "code",
   "execution_count": null,
   "id": "75b1c6fb",
   "metadata": {},
   "outputs": [],
   "source": [
    "r = wb.entity.get(data_field_paths[0])\n",
    "s = wb.entity.search('PICA', 'en', entity_type='item', limit=300)\n",
    "#print(r)\n",
    "# Pretty Print JSON\n",
    "json_formatted_str = json.dumps(r, indent=4)\n",
    "print(json_formatted_str)"
   ]
  },
  {
   "cell_type": "code",
   "execution_count": null,
   "id": "3450ddc1",
   "metadata": {},
   "outputs": [],
   "source": [
    "# create CSV file to store results\n",
    "# now we will open a file for writing\n",
    "data_file = open('data_file.csv', 'w')\n",
    " \n",
    "# create the csv writer object\n",
    "csv_writer = csv.writer(data_file)\n",
    " \n",
    "# Counter variable used for writing\n",
    "# headers to the CSV file\n",
    "count = 0\n",
    " \n",
    "for entity in data:\n",
    "    if count == 0:\n",
    " \n",
    "        # Writing headers of CSV file\n",
    "        header = entity.keys()\n",
    "        csv_writer.writerow(header)\n",
    "        count += 1\n",
    " \n",
    "    # Writing data of CSV file\n",
    "    csv_writer.writerow(entity.values())\n",
    " \n",
    "data_file.close()"
   ]
  },
  {
   "cell_type": "code",
   "execution_count": null,
   "id": "f38fc8c6",
   "metadata": {},
   "outputs": [],
   "source": []
  }
 ],
 "metadata": {
  "kernelspec": {
   "display_name": "Python 3 (ipykernel)",
   "language": "python",
   "name": "python3"
  },
  "language_info": {
   "codemirror_mode": {
    "name": "ipython",
    "version": 3
   },
   "file_extension": ".py",
   "mimetype": "text/x-python",
   "name": "python",
   "nbconvert_exporter": "python",
   "pygments_lexer": "ipython3",
   "version": "3.8.5"
  }
 },
 "nbformat": 4,
 "nbformat_minor": 5
}
